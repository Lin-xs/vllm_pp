{
 "cells": [
  {
   "cell_type": "code",
   "execution_count": 1,
   "metadata": {},
   "outputs": [],
   "source": [
    "from vllm import LLM, SamplingParams\n",
    "try:\n",
    "    from vllm.engine.llm_engine import exit_pipeline\n",
    "except ImportError:\n",
    "    pass\n",
    "try:\n",
    "    from vllm.utils import ctx_get_inteval_datetime\n",
    "except ImportError:\n",
    "    pass\n",
    "import time\n",
    "import argparse\n",
    "import torch\n",
    "from transformers import AutoTokenizer"
   ]
  },
  {
   "cell_type": "code",
   "execution_count": null,
   "metadata": {},
   "outputs": [],
   "source": [
    "sampling_params = SamplingParams(temperature=0.8,\n",
    "                                    top_p=0.95,\n",
    "                                    max_tokens=4)\n",
    "\n",
    "llm = LLM(model=\"facebook/opt-6.7b\")"
   ]
  },
  {
   "cell_type": "code",
   "execution_count": 2,
   "metadata": {},
   "outputs": [],
   "source": [
    "prompts = []\n",
    "with open(\"./prompts.txt\", \"r\") as f:\n",
    "    for line in f:\n",
    "        prompts.append(line)"
   ]
  },
  {
   "cell_type": "code",
   "execution_count": 3,
   "metadata": {},
   "outputs": [],
   "source": [
    "tokenizer = AutoTokenizer.from_pretrained(\"facebook/opt-6.7b\")"
   ]
  },
  {
   "cell_type": "code",
   "execution_count": 4,
   "metadata": {},
   "outputs": [],
   "source": [
    "tk = tokenizer(prompts)"
   ]
  },
  {
   "cell_type": "code",
   "execution_count": 7,
   "metadata": {},
   "outputs": [],
   "source": [
    "sum = sum([len(ls) for ls in tk[\"input_ids\"]])"
   ]
  },
  {
   "cell_type": "code",
   "execution_count": 8,
   "metadata": {},
   "outputs": [
    {
     "data": {
      "text/plain": [
       "5087"
      ]
     },
     "execution_count": 8,
     "metadata": {},
     "output_type": "execute_result"
    }
   ],
   "source": [
    "sum"
   ]
  },
  {
   "cell_type": "code",
   "execution_count": 9,
   "metadata": {},
   "outputs": [
    {
     "data": {
      "text/plain": [
       "0.001010549008819847"
      ]
     },
     "execution_count": 9,
     "metadata": {},
     "output_type": "execute_result"
    }
   ],
   "source": [
    "180/(183208-sum)"
   ]
  },
  {
   "cell_type": "code",
   "execution_count": 10,
   "metadata": {},
   "outputs": [
    {
     "name": "stdout",
     "output_type": "stream",
     "text": [
      "tensor([2040, 4096], dtype=torch.int32)\n",
      "tensor([2040, 4096], device='cuda:1', dtype=torch.int32)\n"
     ]
    }
   ],
   "source": [
    "import torch\n",
    "\n",
    "# 假设 b 是一个 torch.Size 对象\n",
    "b = torch.Size([2040, 4096])\n",
    "\n",
    "# 创建一个基于 torch.Size 的张量\n",
    "a = torch.tensor(b, dtype=torch.int)\n",
    "\n",
    "# 检查 a 的状态\n",
    "print(a)\n",
    "\n",
    "# 将 a 移动到 CUDA 设备\n",
    "c = 'cuda:1'\n",
    "a = a.to(c)\n",
    "\n",
    "# 检查移动后的 a 的状态\n",
    "print(a)\n"
   ]
  }
 ],
 "metadata": {
  "kernelspec": {
   "display_name": "vllm_my",
   "language": "python",
   "name": "python3"
  },
  "language_info": {
   "codemirror_mode": {
    "name": "ipython",
    "version": 3
   },
   "file_extension": ".py",
   "mimetype": "text/x-python",
   "name": "python",
   "nbconvert_exporter": "python",
   "pygments_lexer": "ipython3",
   "version": "3.11.5"
  }
 },
 "nbformat": 4,
 "nbformat_minor": 2
}
